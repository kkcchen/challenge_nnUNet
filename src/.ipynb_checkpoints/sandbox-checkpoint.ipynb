{
 "cells": [
  {
   "cell_type": "code",
   "execution_count": 1,
   "metadata": {},
   "outputs": [],
   "source": [
    "import os\n",
    "import numpy as np\n",
    "import nibabel as nib\n",
    "\n",
    "import matplotlib.pyplot as plt\n"
   ]
  },
  {
   "cell_type": "code",
   "execution_count": 2,
   "metadata": {},
   "outputs": [
    {
     "name": "stdout",
     "output_type": "stream",
     "text": [
      "../UHN-MedImg3D-ML-quiz/train/subtype0/quiz_0_041.nii.gz\n"
     ]
    }
   ],
   "source": [
    "example_filename = \"../UHN-MedImg3D-ML-quiz/train/subtype0/quiz_0_041.nii.gz\"\n",
    "print(example_filename)\n",
    "img = nib.load(example_filename)"
   ]
  },
  {
   "cell_type": "code",
   "execution_count": 3,
   "metadata": {},
   "outputs": [],
   "source": [
    "img.shape\n",
    "data = np.asanyarray(img.dataobj)"
   ]
  },
  {
   "cell_type": "code",
   "execution_count": 5,
   "metadata": {},
   "outputs": [
    {
     "data": {
      "text/plain": [
       "<Figure size 640x480 with 0 Axes>"
      ]
     },
     "execution_count": 5,
     "metadata": {},
     "output_type": "execute_result"
    },
    {
     "data": {
      "image/png": "[encoded data removed]",
      "text/plain": [
       "<Figure size 640x480 with 1 Axes>"
      ]
     },
     "metadata": {},
     "output_type": "display_data"
    },
    {
     "data": {
      "text/plain": [
       "<Figure size 640x480 with 0 Axes>"
      ]
     },
     "metadata": {},
     "output_type": "display_data"
    }
   ],
   "source": [
    "\n",
    "\n",
    "plt.imshow(data[:,:, data.shape[2] // 2])\n",
    "plt.figure()"
   ]
  },
  {
   "cell_type": "code",
   "execution_count": 27,
   "metadata": {},
   "outputs": [
    {
     "name": "stdout",
     "output_type": "stream",
     "text": [
      "/home/kchen/UHN-MedImg3D-ML-quiz/datasets/Dataset011_PancreasCancer/imagesVa/quiz_2_191_0000.nii.gz\n",
      "/home/kchen/UHN-MedImg3D-ML-quiz/datasets/Dataset011_PancreasCancer/imagesVa/quiz_2_241_0000.nii.gz\n",
      "/home/kchen/UHN-MedImg3D-ML-quiz/datasets/Dataset011_PancreasCancer/imagesVa/quiz_2_379_0000.nii.gz\n",
      "/home/kchen/UHN-MedImg3D-ML-quiz/datasets/Dataset011_PancreasCancer/imagesVa/quiz_2_098_0000.nii.gz\n",
      "/home/kchen/UHN-MedImg3D-ML-quiz/datasets/Dataset011_PancreasCancer/imagesVa/quiz_2_089_0000.nii.gz\n",
      "/home/kchen/UHN-MedImg3D-ML-quiz/datasets/Dataset011_PancreasCancer/imagesVa/quiz_2_074_0000.nii.gz\n",
      "/home/kchen/UHN-MedImg3D-ML-quiz/datasets/Dataset011_PancreasCancer/imagesVa/quiz_2_080_0000.nii.gz\n",
      "/home/kchen/UHN-MedImg3D-ML-quiz/datasets/Dataset011_PancreasCancer/imagesVa/quiz_2_088_0000.nii.gz\n",
      "/home/kchen/UHN-MedImg3D-ML-quiz/datasets/Dataset011_PancreasCancer/imagesVa/quiz_2_377_0000.nii.gz\n",
      "/home/kchen/UHN-MedImg3D-ML-quiz/datasets/Dataset011_PancreasCancer/imagesVa/quiz_2_084_0000.nii.gz\n",
      "/home/kchen/UHN-MedImg3D-ML-quiz/datasets/Dataset011_PancreasCancer/imagesVa/quiz_2_085_0000.nii.gz\n",
      "/home/kchen/UHN-MedImg3D-ML-quiz/datasets/Dataset011_PancreasCancer/imagesVa/quiz_2_364_0000.nii.gz\n",
      "/home/kchen/UHN-MedImg3D-ML-quiz/datasets/Dataset011_PancreasCancer/imagesVa/quiz_0_171_0000.nii.gz\n",
      "/home/kchen/UHN-MedImg3D-ML-quiz/datasets/Dataset011_PancreasCancer/imagesVa/quiz_0_253_0000.nii.gz\n",
      "/home/kchen/UHN-MedImg3D-ML-quiz/datasets/Dataset011_PancreasCancer/imagesVa/quiz_0_187_0000.nii.gz\n",
      "/home/kchen/UHN-MedImg3D-ML-quiz/datasets/Dataset011_PancreasCancer/imagesVa/quiz_0_254_0000.nii.gz\n",
      "/home/kchen/UHN-MedImg3D-ML-quiz/datasets/Dataset011_PancreasCancer/imagesVa/quiz_0_184_0000.nii.gz\n",
      "/home/kchen/UHN-MedImg3D-ML-quiz/datasets/Dataset011_PancreasCancer/imagesVa/quiz_0_189_0000.nii.gz\n",
      "/home/kchen/UHN-MedImg3D-ML-quiz/datasets/Dataset011_PancreasCancer/imagesVa/quiz_0_244_0000.nii.gz\n",
      "/home/kchen/UHN-MedImg3D-ML-quiz/datasets/Dataset011_PancreasCancer/imagesVa/quiz_0_168_0000.nii.gz\n",
      "/home/kchen/UHN-MedImg3D-ML-quiz/datasets/Dataset011_PancreasCancer/imagesVa/quiz_0_174_0000.nii.gz\n",
      "/home/kchen/UHN-MedImg3D-ML-quiz/datasets/Dataset011_PancreasCancer/imagesVa/quiz_1_242_0000.nii.gz\n",
      "/home/kchen/UHN-MedImg3D-ML-quiz/datasets/Dataset011_PancreasCancer/imagesVa/quiz_1_231_0000.nii.gz\n",
      "/home/kchen/UHN-MedImg3D-ML-quiz/datasets/Dataset011_PancreasCancer/imagesVa/quiz_1_158_0000.nii.gz\n",
      "/home/kchen/UHN-MedImg3D-ML-quiz/datasets/Dataset011_PancreasCancer/imagesVa/quiz_1_093_0000.nii.gz\n",
      "/home/kchen/UHN-MedImg3D-ML-quiz/datasets/Dataset011_PancreasCancer/imagesVa/quiz_1_335_0000.nii.gz\n",
      "/home/kchen/UHN-MedImg3D-ML-quiz/datasets/Dataset011_PancreasCancer/imagesVa/quiz_1_154_0000.nii.gz\n",
      "/home/kchen/UHN-MedImg3D-ML-quiz/datasets/Dataset011_PancreasCancer/imagesVa/quiz_1_211_0000.nii.gz\n",
      "/home/kchen/UHN-MedImg3D-ML-quiz/datasets/Dataset011_PancreasCancer/imagesVa/quiz_1_090_0000.nii.gz\n",
      "/home/kchen/UHN-MedImg3D-ML-quiz/datasets/Dataset011_PancreasCancer/imagesVa/quiz_1_094_0000.nii.gz\n",
      "/home/kchen/UHN-MedImg3D-ML-quiz/datasets/Dataset011_PancreasCancer/imagesVa/quiz_1_213_0000.nii.gz\n",
      "/home/kchen/UHN-MedImg3D-ML-quiz/datasets/Dataset011_PancreasCancer/imagesVa/quiz_1_166_0000.nii.gz\n",
      "/home/kchen/UHN-MedImg3D-ML-quiz/datasets/Dataset011_PancreasCancer/imagesVa/quiz_1_331_0000.nii.gz\n",
      "/home/kchen/UHN-MedImg3D-ML-quiz/datasets/Dataset011_PancreasCancer/imagesVa/quiz_1_164_0000.nii.gz\n",
      "/home/kchen/UHN-MedImg3D-ML-quiz/datasets/Dataset011_PancreasCancer/imagesVa/quiz_1_227_0000.nii.gz\n",
      "/home/kchen/UHN-MedImg3D-ML-quiz/datasets/Dataset011_PancreasCancer/imagesVa/quiz_1_221_0000.nii.gz\n",
      "36\n"
     ]
    }
   ],
   "source": [
    "import os\n",
    "import shutil\n",
    "\n",
    "# Define the paths\n",
    "src_dir = '/home/kchen/UHN-MedImg3D-ML-quiz/datasets/Dataset011_PancreasCancer'\n",
    "images_dir = os.path.join(src_dir, 'imagesVa')\n",
    "# labels_dir = os.path.join(src_dir, 'labelsVa')\n",
    "\n",
    "# Create the destination directories if they don't exist\n",
    "os.makedirs(images_dir, exist_ok=True)\n",
    "os.makedirs(labels_dir, exist_ok=True)\n",
    "\n",
    "count = 0\n",
    "# Walk through the source directory\n",
    "for subtype in os.listdir(images_dir):\n",
    "    subtype_dir = os.path.join(images_dir, subtype)\n",
    "    if os.path.isdir(subtype_dir) and subtype != \"ReadMe.pdf\":\n",
    "        for file in os.listdir(subtype_dir):\n",
    "            file_path = os.path.join(subtype_dir, file)\n",
    "            if file == \"~BROMIUM\":\n",
    "                os.rmdir(file_path)\n",
    "            if '.nii.gz' in file:\n",
    "                # This is a label\n",
    "                dest = os.path.join(images_dir, file)\n",
    "                shutil.copy(file_path, dest)\n",
    "                print(dest)\n",
    "                count += 1\n",
    "\n",
    "print(count)"
   ]
  },
  {
   "cell_type": "code",
   "execution_count": null,
   "metadata": {},
   "outputs": [],
   "source": [
    "// image processing\n",
    "import nibabel as nib\n",
    "import numpy as np\n",
    "import os\n",
    "\n",
    "path = \"\"\n",
    "\n",
    "for path in os.listdir(path):\n",
    "    subtype_dir = os.path.join(images_dir, subtype)\n",
    "    if os.path.isdir(subtype_dir) and subtype != \"ReadMe.pdf\":\n",
    "        for file in os.listdir(subtype_dir):\n",
    "            file_path = os.path.join(subtype_dir, file)\n",
    "            if file == \"~BROMIUM\":\n",
    "                os.rmdir(file_path)\n",
    "            if '.nii.gz' in file:\n",
    "                # This is a label\n",
    "                dest = os.path.join(images_dir, file)\n",
    "                shutil.copy(file_path, dest)\n",
    "                print(dest)\n",
    "                count += 1"
   ]
  }
 ],
 "metadata": {
  "kernelspec": {
   "display_name": "Python 3 (ipykernel)",
   "language": "python",
   "name": "python3"
  },
  "language_info": {
   "codemirror_mode": {
    "name": "ipython",
    "version": 3
   },
   "file_extension": ".py",
   "mimetype": "text/x-python",
   "name": "python",
   "nbconvert_exporter": "python",
   "pygments_lexer": "ipython3",
   "version": "3.12.4"
  }
 },
 "nbformat": 4,
 "nbformat_minor": 4
}
